{
 "cells": [
  {
   "cell_type": "markdown",
   "metadata": {},
   "source": [
    "## Table of Contents\n",
    "\n",
    "#### [Part 1: Extract, transform, load, snow pit and transect data](Notebooks/Part_1_ETL_Field.ipynb)\n",
    "#### [Part 2: SMP ETL Workbook](Notebooks/Part_2_SMP_ETL.ipynb)\n",
    "#### [Part 3: Snow Grain Type Classification](Notebooks/Part_3_GrainClassification.ipynb)\n",
    "#### [Part 4: Snowpack Creation and Analysis](Notebooks/Part_4_Snowpack_ETL.ipynb)\n",
    "#### [Part 5: Building a Representative Snowpack at the 100 m scale](Notebooks/Part_5_RepPitSelection.ipynb)\n",
    "#### [Part 6: Creation of a statistically representative snowpack using all SMP profiles around a surveyed snowpit](Notebooks/Part_6_StatPitCreation.ipynb)\n",
    "#### [Part 7: Forward modelling and optimization of soil properties using the C- and X-Band radar backscatter data.](Notebooks/Part_7_C+X-BandOptimization.ipynb)\n",
    "#### [Part 8: Forward modelling and optimization of soil and snow properties using the airborne UMass Ku-Band radar backscatter data.](Notebooks/Part_8_Ku-BandOptimization.ipynb)"
   ]
  }
 ],
 "metadata": {
  "language_info": {
   "name": "python"
  }
 },
 "nbformat": 4,
 "nbformat_minor": 2
}
